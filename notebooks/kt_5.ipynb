{
 "cells": [
  {
   "cell_type": "code",
   "execution_count": 8,
   "id": "bc95f2dd-437d-4f77-9a6a-a491ebb32d06",
   "metadata": {},
   "outputs": [],
   "source": [
    "from typing import NamedTuple\n",
    "\n",
    "import kfp\n",
    "from kfp.components import InputPath, InputTextFile, OutputPath, OutputTextFile\n",
    "from kfp.components import create_component_from_func\n",
    "import kfp.components as comp"
   ]
  },
  {
   "cell_type": "code",
   "execution_count": 2,
   "id": "0bf4a347-5249-43c0-8f37-d8fdcca3a4cb",
   "metadata": {},
   "outputs": [],
   "source": [
    "def add(a:int , b:int):\n",
    "    return a + b"
   ]
  },
  {
   "cell_type": "code",
   "execution_count": 11,
   "id": "6f1064b0-2ddf-4b1e-80b4-e2e745e4a5ec",
   "metadata": {},
   "outputs": [],
   "source": [
    "add_op = create_component_from_func(func=add, output_component_file='components/add_component.yaml')"
   ]
  }
 ],
 "metadata": {
  "kernelspec": {
   "display_name": "Python 3",
   "language": "python",
   "name": "python3"
  },
  "language_info": {
   "codemirror_mode": {
    "name": "ipython",
    "version": 3
   },
   "file_extension": ".py",
   "mimetype": "text/x-python",
   "name": "python",
   "nbconvert_exporter": "python",
   "pygments_lexer": "ipython3",
   "version": "3.8.10"
  }
 },
 "nbformat": 4,
 "nbformat_minor": 5
}
