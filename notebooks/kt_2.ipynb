{
 "cells": [
  {
   "cell_type": "code",
   "execution_count": 1,
   "id": "2284ca86-2624-4965-93dd-529c5ac267e1",
   "metadata": {},
   "outputs": [],
   "source": [
    "from typing import NamedTuple\n",
    "\n",
    "import kfp\n",
    "from kfp.components import InputPath, InputTextFile, OutputPath, OutputTextFile\n",
    "from kfp.components import func_to_container_op\n",
    "import kfp.components as comp"
   ]
  },
  {
   "cell_type": "code",
   "execution_count": 4,
   "id": "ba530314-796e-4844-8a0d-382f23b71ee8",
   "metadata": {
    "tags": []
   },
   "outputs": [],
   "source": [
    "@func_to_container_op\n",
    "def produce_text() -> str:\n",
    "    return 'Hola equipo version 2'\n",
    "\n",
    "@func_to_container_op\n",
    "def produce_multiple_outputs() -> NamedTuple('Outputs',[('text',str),('number', int)]):\n",
    "    return (\"data in text format\",21)\n",
    "\n",
    "@func_to_container_op\n",
    "def print_multiple_arguments(text: str, number: int):\n",
    "    print(f'the parameter text is equal to: {text}')\n",
    "    print(f'the parameter number is equal to: {number}')\n",
    "    \n",
    "def my_pipeline(text_parameter: str): \n",
    "    produce_task_1 = produce_multiple_outputs()\n",
    "    produce_task_2 = produce_text()\n",
    "    \n",
    "    consume_task_1 = print_multiple_arguments(produce_task_1.outputs['text'],produce_task_1.outputs['number'])\n",
    "    consume_task_2 = print_multiple_arguments(text_parameter,435)\n",
    "    consume_task_3 = print_multiple_arguments(produce_task_2.output, produce_task_1.outputs['number'])"
   ]
  },
  {
   "cell_type": "code",
   "execution_count": 5,
   "id": "283e29dd-b1dc-4c2a-9302-068954ddcc7f",
   "metadata": {},
   "outputs": [],
   "source": [
    "kfp.compiler.Compiler().compile(\n",
    "    pipeline_func=my_pipeline,\n",
    "    package_path='kt_pipeline_test.yaml')"
   ]
  }
 ],
 "metadata": {
  "kernelspec": {
   "display_name": "Python 3",
   "language": "python",
   "name": "python3"
  },
  "language_info": {
   "codemirror_mode": {
    "name": "ipython",
    "version": 3
   },
   "file_extension": ".py",
   "mimetype": "text/x-python",
   "name": "python",
   "nbconvert_exporter": "python",
   "pygments_lexer": "ipython3",
   "version": "3.8.10"
  }
 },
 "nbformat": 4,
 "nbformat_minor": 5
}
