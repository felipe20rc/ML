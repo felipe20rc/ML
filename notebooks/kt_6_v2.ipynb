{
 "cells": [
  {
   "cell_type": "code",
   "execution_count": 14,
   "id": "23b4409c-62b9-468d-a7e7-01986db81084",
   "metadata": {},
   "outputs": [],
   "source": [
    "from typing import NamedTuple\n",
    "\n",
    "import kfp\n",
    "from kfp.components import load_component_from_url\n",
    "import kfp.components as comp"
   ]
  },
  {
   "cell_type": "code",
   "execution_count": 15,
   "id": "4bfbf68e-f94a-40e2-89dc-120c440cc344",
   "metadata": {},
   "outputs": [],
   "source": [
    "generate_one_string_op = load_component_from_url('https://raw.githubusercontent.com/felipe20rc/ML/main/preparation/components/generate_one_string.yaml')\n",
    "generate_two_outputs_op =load_component_from_url('https://raw.githubusercontent.com/felipe20rc/ML/main/preparation/components/generate_two_outputs.yaml')\n",
    "print_text_op = load_component_from_url('https://raw.githubusercontent.com/felipe20rc/ML/main/preparation/components/print_text.yaml')\n",
    "print_multiple_outputs_op = load_component_from_url('https://raw.githubusercontent.com/felipe20rc/ML/main/preparation/components/print_multiple_outputs.yaml')"
   ]
  },
  {
   "cell_type": "code",
   "execution_count": 16,
   "id": "8f1406dd-9e95-4613-946f-339624a040a1",
   "metadata": {},
   "outputs": [],
   "source": [
    "def my_pipeline(text: str = \"default text\"):\n",
    "    t1 = generate_one_string_op()\n",
    "    t2 = generate_two_outputs_op()\n",
    "    t3 = print_text_op(text)\n",
    "    t4 = print_text_op(t2.outputs['text'])\n",
    "    t5 = print_multiple_outputs_op(t1.output,t2.outputs['number'])\n",
    "    t6 = print_multiple_outputs_op(text,t2.outputs['number'])"
   ]
  },
  {
   "cell_type": "code",
   "execution_count": 17,
   "id": "ddc9e6ae-7258-4127-9601-87581f910dde",
   "metadata": {},
   "outputs": [],
   "source": [
    "kfp.compiler.Compiler().compile(\n",
    "    pipeline_func=my_pipeline,\n",
    "    package_path='kt_pipeline_test.yaml')"
   ]
  }
 ],
 "metadata": {
  "kernelspec": {
   "display_name": "Python 3",
   "language": "python",
   "name": "python3"
  },
  "language_info": {
   "codemirror_mode": {
    "name": "ipython",
    "version": 3
   },
   "file_extension": ".py",
   "mimetype": "text/x-python",
   "name": "python",
   "nbconvert_exporter": "python",
   "pygments_lexer": "ipython3",
   "version": "3.8.10"
  }
 },
 "nbformat": 4,
 "nbformat_minor": 5
}
