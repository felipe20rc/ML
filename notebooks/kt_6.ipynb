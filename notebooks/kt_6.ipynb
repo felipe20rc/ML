{
 "cells": [
  {
   "cell_type": "code",
   "execution_count": 4,
   "id": "a888132f-dcee-4bc6-b808-9735be967c0d",
   "metadata": {},
   "outputs": [],
   "source": [
    "from typing import NamedTuple\n",
    "\n",
    "import kfp\n",
    "import kfp.components as comp\n",
    "from kfp.components import InputPath, InputTextFile, OutputPath, OutputTextFile\n",
    "from kfp.components import load_component_from_url\n"
   ]
  },
  {
   "cell_type": "code",
   "execution_count": 5,
   "id": "89816f8a-b92d-45b4-acb8-c00f023f4865",
   "metadata": {},
   "outputs": [],
   "source": [
    "add_op = load_component_from_url('https://raw.githubusercontent.com/felipe20rc/ML/main/preparation/components/add_component.yaml')"
   ]
  },
  {
   "cell_type": "code",
   "execution_count": 6,
   "id": "29898830-2af9-4369-99f4-851f6a1f622a",
   "metadata": {},
   "outputs": [],
   "source": [
    "def my_pipeline():\n",
    "    t1 = add_op(a=1,b=3)"
   ]
  },
  {
   "cell_type": "code",
   "execution_count": 8,
   "id": "f2530158-9635-4039-bbc1-013b2ac78f53",
   "metadata": {},
   "outputs": [],
   "source": [
    "kfp.compiler.Compiler().compile(\n",
    "    pipeline_func=my_pipeline,\n",
    "    package_path='kt_pipeline_test.yaml')"
   ]
  }
 ],
 "metadata": {
  "kernelspec": {
   "display_name": "Python 3",
   "language": "python",
   "name": "python3"
  },
  "language_info": {
   "codemirror_mode": {
    "name": "ipython",
    "version": 3
   },
   "file_extension": ".py",
   "mimetype": "text/x-python",
   "name": "python",
   "nbconvert_exporter": "python",
   "pygments_lexer": "ipython3",
   "version": "3.8.10"
  }
 },
 "nbformat": 4,
 "nbformat_minor": 5
}
