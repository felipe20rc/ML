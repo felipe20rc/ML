{
 "cells": [
  {
   "cell_type": "code",
   "execution_count": 1,
   "id": "54a377c5-fba8-4dff-8d2c-a7dce63cf705",
   "metadata": {},
   "outputs": [],
   "source": [
    "from typing import NamedTuple\n",
    "\n",
    "import kfp\n",
    "from kfp.components import InputPath, InputTextFile, OutputPath, OutputTextFile\n",
    "from kfp.components import func_to_container_op\n",
    "import kfp.components as comp"
   ]
  },
  {
   "cell_type": "code",
   "execution_count": 7,
   "id": "ec71cb99-0621-4368-85f4-f426b239ebac",
   "metadata": {},
   "outputs": [],
   "source": [
    "@func_to_container_op\n",
    "def get_item_from_list(list_elem:list, index: int) -> str:\n",
    "    return list_elem[index]\n",
    "\n",
    "@func_to_container_op\n",
    "def truncate_text(text: str, max_length: int) -> str:\n",
    "    return text[0:max_length]\n",
    "\n",
    "@func_to_container_op\n",
    "def print_text(text:str):\n",
    "    print(f'{text}')\n",
    "    \n",
    "    \n",
    "def my_pipeline(index: int, text: str = \"Hello world\" ):\n",
    "    t1 = truncate_text(text, max_length=5)\n",
    "    t2 = get_item_from_list([4,8,t1.output,3,1,54,9], index)\n",
    "    t3 = print_text(t2.output)"
   ]
  },
  {
   "cell_type": "code",
   "execution_count": 8,
   "id": "0e2c36ec-680f-42cb-9756-7bc638289a2d",
   "metadata": {},
   "outputs": [],
   "source": [
    "kfp.compiler.Compiler().compile(\n",
    "    pipeline_func=my_pipeline,\n",
    "    package_path='kt_pipeline_test.yaml')"
   ]
  }
 ],
 "metadata": {
  "kernelspec": {
   "display_name": "Python 3",
   "language": "python",
   "name": "python3"
  },
  "language_info": {
   "codemirror_mode": {
    "name": "ipython",
    "version": 3
   },
   "file_extension": ".py",
   "mimetype": "text/x-python",
   "name": "python",
   "nbconvert_exporter": "python",
   "pygments_lexer": "ipython3",
   "version": "3.8.10"
  }
 },
 "nbformat": 4,
 "nbformat_minor": 5
}
