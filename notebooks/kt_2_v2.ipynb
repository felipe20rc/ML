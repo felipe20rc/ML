{
 "cells": [
  {
   "cell_type": "code",
   "execution_count": 5,
   "id": "23b4409c-62b9-468d-a7e7-01986db81084",
   "metadata": {},
   "outputs": [],
   "source": [
    "from typing import NamedTuple\n",
    "\n",
    "import kfp\n",
    "from kfp.components import func_to_container_op\n",
    "import kfp.components as comp"
   ]
  },
  {
   "cell_type": "code",
   "execution_count": 7,
   "id": "83a6a95b-24b0-414b-938e-a0fe96211c3e",
   "metadata": {},
   "outputs": [],
   "source": [
    "@func_to_container_op\n",
    "def generate_one_string() -> str:\n",
    "    return \"simple string\"\n",
    "\n",
    "@func_to_container_op\n",
    "def generate_two_outputs() -> NamedTuple('Outputs',[('text',str),('number',int)]):\n",
    "    return (\"string part of multiple outputs\", 35)\n",
    "\n",
    "@func_to_container_op\n",
    "def print_text(text: str): \n",
    "    print(text)\n",
    "\n",
    "@func_to_container_op\n",
    "def print_multiple_outputs(text:str,number: int):\n",
    "    print(f'the number is: {number}')\n",
    "    print(f'the text is: {text}')"
   ]
  },
  {
   "cell_type": "code",
   "execution_count": 14,
   "id": "8f1406dd-9e95-4613-946f-339624a040a1",
   "metadata": {},
   "outputs": [],
   "source": [
    "def my_pipeline(text: str = \"default text\"):\n",
    "    t1 = generate_one_string()\n",
    "    t2 = generate_two_outputs()\n",
    "    \n",
    "    t3 = print_text(text)\n",
    "    t4 = print_text(t2.outputs['text'])\n",
    "    t5 = print_multiple_outputs(t1.output,t2.outputs['number'])\n",
    "    t6 = print_multiple_outputs(text,t2.outputs['number'])"
   ]
  },
  {
   "cell_type": "code",
   "execution_count": 15,
   "id": "ddc9e6ae-7258-4127-9601-87581f910dde",
   "metadata": {},
   "outputs": [],
   "source": [
    "kfp.compiler.Compiler().compile(\n",
    "    pipeline_func=my_pipeline,\n",
    "    package_path='kt_pipeline_test.yaml')"
   ]
  }
 ],
 "metadata": {
  "kernelspec": {
   "display_name": "Python 3",
   "language": "python",
   "name": "python3"
  },
  "language_info": {
   "codemirror_mode": {
    "name": "ipython",
    "version": 3
   },
   "file_extension": ".py",
   "mimetype": "text/x-python",
   "name": "python",
   "nbconvert_exporter": "python",
   "pygments_lexer": "ipython3",
   "version": "3.8.10"
  }
 },
 "nbformat": 4,
 "nbformat_minor": 5
}
