{
 "cells": [
  {
   "cell_type": "code",
   "execution_count": 1,
   "id": "8592ba37-b49f-456b-9e69-ea65ff614f9d",
   "metadata": {},
   "outputs": [],
   "source": [
    "from typing import NamedTuple\n",
    "\n",
    "import kfp\n",
    "from kfp.components import InputPath, InputTextFile, OutputPath, OutputTextFile\n",
    "from kfp.components import func_to_container_op\n",
    "import kfp.components as comp"
   ]
  },
  {
   "cell_type": "code",
   "execution_count": 2,
   "id": "9d62981c-c005-4ba0-91a0-57ff39c7499c",
   "metadata": {},
   "outputs": [],
   "source": [
    "@func_to_container_op\n",
    "def repeat_line(line: str, count:int, output_text_path: OutputPath(str)):\n",
    "    with open(output_text_path,'w') as writer:\n",
    "        for i in range(count):\n",
    "            writer.write(line+'\\n')\n",
    "            \n",
    "@func_to_container_op\n",
    "def print_text(input_text_path: InputPath()):\n",
    "    with open(input_text_path,'r') as reader:\n",
    "        for line in reader:\n",
    "            print(line, end=' ')\n",
    "            \n",
    "def my_pipeline(line: str, count:int):\n",
    "    t1 = repeat_line(line, count)\n",
    "    t2 = print_text(t1.output)"
   ]
  },
  {
   "cell_type": "code",
   "execution_count": 3,
   "id": "59155dfb-5f09-4b48-a286-e3c8ced8b983",
   "metadata": {},
   "outputs": [],
   "source": [
    "kfp.compiler.Compiler().compile(\n",
    "    pipeline_func=my_pipeline,\n",
    "    package_path='kt_pipeline_test.yaml')"
   ]
  }
 ],
 "metadata": {
  "kernelspec": {
   "display_name": "Python 3",
   "language": "python",
   "name": "python3"
  },
  "language_info": {
   "codemirror_mode": {
    "name": "ipython",
    "version": 3
   },
   "file_extension": ".py",
   "mimetype": "text/x-python",
   "name": "python",
   "nbconvert_exporter": "python",
   "pygments_lexer": "ipython3",
   "version": "3.8.10"
  }
 },
 "nbformat": 4,
 "nbformat_minor": 5
}
